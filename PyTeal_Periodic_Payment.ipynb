{
  "nbformat": 4,
  "nbformat_minor": 0,
  "metadata": {
    "colab": {
      "name": "PyTeal_Periodic_Payment.ipynb",
      "provenance": []
    },
    "kernelspec": {
      "name": "python3",
      "display_name": "Python 3"
    },
    "language_info": {
      "name": "python"
    }
  },
  "cells": [
    {
      "cell_type": "code",
      "source": [
        "!pip install pyteal\n",
        "import pyteal as teal\n",
        "from pyteal import *"
      ],
      "metadata": {
        "colab": {
          "base_uri": "https://localhost:8080/"
        },
        "id": "1SIhfPeoghuQ",
        "outputId": "ebf899a2-4791-445b-ec41-5b600fa27535"
      },
      "execution_count": 3,
      "outputs": [
        {
          "output_type": "stream",
          "name": "stdout",
          "text": [
            "Looking in indexes: https://pypi.org/simple, https://us-python.pkg.dev/colab-wheels/public/simple/\n",
            "Requirement already satisfied: pyteal in /usr/local/lib/python3.7/dist-packages (0.10.1)\n",
            "Requirement already satisfied: py-algorand-sdk in /usr/local/lib/python3.7/dist-packages (from pyteal) (1.12.0)\n",
            "Requirement already satisfied: msgpack<2,>=1.0.0 in /usr/local/lib/python3.7/dist-packages (from py-algorand-sdk->pyteal) (1.0.4)\n",
            "Requirement already satisfied: pynacl<2,>=1.4.0 in /usr/local/lib/python3.7/dist-packages (from py-algorand-sdk->pyteal) (1.5.0)\n",
            "Requirement already satisfied: pycryptodomex<4,>=3.6.0 in /usr/local/lib/python3.7/dist-packages (from py-algorand-sdk->pyteal) (3.14.1)\n",
            "Requirement already satisfied: cffi>=1.4.1 in /usr/local/lib/python3.7/dist-packages (from pynacl<2,>=1.4.0->py-algorand-sdk->pyteal) (1.15.0)\n",
            "Requirement already satisfied: pycparser in /usr/local/lib/python3.7/dist-packages (from cffi>=1.4.1->pynacl<2,>=1.4.0->py-algorand-sdk->pyteal) (2.21)\n"
          ]
        }
      ]
    },
    {
      "cell_type": "code",
      "execution_count": null,
      "metadata": {
        "id": "naBML3HygVfc"
      },
      "outputs": [],
      "source": [
        "#template variables\n",
        "tmpl_fee = Int(1000)\n",
        "tmpl_period = Int(1000)\n",
        "tmpl_dur = Int(1000)\n",
        "tmpl_x = Bytes(\"base64\", \"y9OJ5MRLCHQj8GqbikAUKMBI7hom+SOj8dlopNdNHXI=\")\n",
        "tmpl_amt = Int(2000)\n",
        "tmpl_rcv = Addr(\"ZZAF5ARA4MEC5PVDOP64JM5O5MQST63Q2KOY2FLYFLXXD3PFSNJJBYAFZM\")\n",
        "tmpl_timeout = Int(30000)\n",
        "\n",
        "periodic_pay_core = And(Txn.type_enum() == Int(1),\n",
        "                        Txn.fee() < tmpl_fee)\n",
        "                      \n",
        "periodic_pay_transfer = And(Txn.close_remainder_to() ==  Global.zero_address(),\n",
        "                            Txn.receiver() == tmpl_rcv,\n",
        "                            Txn.amount() == tmpl_amt,\n",
        "                            Txn.first_valid() % tmpl_period == Int(0),\n",
        "                            Txn.last_valid() == tmpl_dur + Txn.first_valid(),\n",
        "                            Txn.lease() == tmpl_x)\n",
        "\n",
        "periodic_pay_close = And(Txn.close_remainder_to() == tmpl_rcv,\n",
        "                         Txn.receiver() == Global.zero_address(),\n",
        "                         Txn.first_valid() > tmpl_timeout,\n",
        "                         Txn.amount() == Int(0))\n",
        "\n",
        "periodic_pay_escrow = And(periodic_pay_core, Or(periodic_pay_transfer, periodic_pay_close))\n",
        "\n",
        "print(periodic_pay_escrow.teal())"
      ]
    }
  ]
}